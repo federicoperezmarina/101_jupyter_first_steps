{
 "cells": [
  {
   "cell_type": "code",
   "execution_count": 1,
   "id": "662504f7-be94-4bc9-b54e-dec5f4a926cd",
   "metadata": {},
   "outputs": [
    {
     "name": "stdout",
     "output_type": "stream",
     "text": [
      "[1] \"My first jupyter notebook in R.\"\n"
     ]
    }
   ],
   "source": [
    "print(\"My first jupyter notebook in R.\")"
   ]
  }
 ],
 "metadata": {
  "kernelspec": {
   "display_name": "R",
   "language": "R",
   "name": "ir"
  },
  "language_info": {
   "codemirror_mode": "r",
   "file_extension": ".r",
   "mimetype": "text/x-r-source",
   "name": "R",
   "pygments_lexer": "r",
   "version": "4.1.3"
  }
 },
 "nbformat": 4,
 "nbformat_minor": 5
}
