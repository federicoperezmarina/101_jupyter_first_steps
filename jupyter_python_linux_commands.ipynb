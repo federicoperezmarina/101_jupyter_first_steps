{
 "cells": [
  {
   "cell_type": "code",
   "execution_count": 1,
   "id": "871cab97-1cee-479b-a54d-12361e4998f1",
   "metadata": {},
   "outputs": [
    {
     "name": "stdout",
     "output_type": "stream",
     "text": [
      "/opt/conda/bin:/usr/local/sbin:/usr/local/bin:/usr/sbin:/usr/bin:/sbin:/bin:/usr/local/spark/bin\n"
     ]
    }
   ],
   "source": [
    "!echo $PATH"
   ]
  },
  {
   "cell_type": "code",
   "execution_count": 2,
   "id": "7a40ac23-6f0a-42b3-8576-0db7e26959bd",
   "metadata": {},
   "outputs": [
    {
     "name": "stdout",
     "output_type": "stream",
     "text": [
      "python is /opt/conda/bin/python\n"
     ]
    }
   ],
   "source": [
    "!type python"
   ]
  },
  {
   "cell_type": "code",
   "execution_count": 3,
   "id": "c4930f52-ed21-47c3-aa35-151b88a73a17",
   "metadata": {},
   "outputs": [
    {
     "name": "stdout",
     "output_type": "stream",
     "text": [
      "total 196K\n",
      "drwxr-xr-x 1 jovyan users 4.0K Jul 30 21:12 .\n",
      "drwxr-xr-x 1 root   root  4.0K Jul 29 13:37 ..\n",
      "-rw-r--r-- 1 root   root    83 Jul 29 13:35 Dockerfile\n",
      "-rw-r--r-- 1 root   root  6.1K Jul 28 23:13 .DS_Store\n",
      "drwxr-xr-x 7 root   root  4.0K Jul 28 21:40 .git\n",
      "drwxr-xr-x 2 jovyan users 4.0K Jul 30 21:09 .ipynb_checkpoints\n",
      "-rw-r--r-- 1 jovyan users  27K Jul 29 19:51 jupyter_python_datasets_2.ipynb\n",
      "-rw-r--r-- 1 jovyan users  717 Jul 28 23:33 .~jupyter_python_datasets.ipynb\n",
      "-rw-r--r-- 1 root   root   717 Jul 28 23:33 jupyter_python_datasets.ipynb\n",
      "-rw-r--r-- 1 root   root   929 Jul 28 23:12 jupyter_python_first_notebook.ipynb\n",
      "-rw-r--r-- 1 jovyan users 1.4K Jul 30 21:12 jupyter_python_linux_commands.ipynb\n",
      "-rw-r--r-- 1 jovyan users  15K Jul 30 21:07 jupyter_python_pip.ipynb\n",
      "-rw-r--r-- 1 root   root   46K Jul 28 23:12 jupyter_python_plot.ipynb\n",
      "-rw-r--r-- 1 jovyan users  44K Jul 30 20:54 jupyter_r_dataset.ipynb\n",
      "-rw-r--r-- 1 jovyan users  689 Jul 30 21:03 jupyter_r_first_notebook.ipynb\n",
      "-rw-r--r-- 1 root   root    80 Jul 19 21:16 README.md\n",
      "drwxr-xr-x 2 root   root  4.0K Jul 28 23:14 starwars_datasets\n",
      "-rw-r--r-- 1 jovyan users    0 Jul 30 21:01 untitled.txt\n"
     ]
    }
   ],
   "source": [
    "!ls -lha"
   ]
  }
 ],
 "metadata": {
  "kernelspec": {
   "display_name": "Python 3 (ipykernel)",
   "language": "python",
   "name": "python3"
  },
  "language_info": {
   "codemirror_mode": {
    "name": "ipython",
    "version": 3
   },
   "file_extension": ".py",
   "mimetype": "text/x-python",
   "name": "python",
   "nbconvert_exporter": "python",
   "pygments_lexer": "ipython3",
   "version": "3.10.5"
  }
 },
 "nbformat": 4,
 "nbformat_minor": 5
}
